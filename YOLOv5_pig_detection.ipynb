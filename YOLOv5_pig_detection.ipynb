{
 "cells": [
  {
   "attachments": {},
   "cell_type": "markdown",
   "metadata": {},
   "source": [
    "# YOLOv5로 돼지 탐지하기"
   ]
  },
  {
   "attachments": {},
   "cell_type": "markdown",
   "metadata": {},
   "source": [
    "### 환경\n",
    "-   KiSTi 국가컴퓨팅센터 - 뉴론(NEURON)\n",
    "\n",
    "-   운영체제: CentOS 7.9 (Linux, 64-bit)\n",
    "\n",
    "-   CPU: Intel Xeon Ivy Bridge (E5-2670) / 2.50GHz (10-core) / 2 socket\n",
    "\n",
    "-   GPU: Tesla V100-PCIE-16GB(2개중 하나만 사용함)\n",
    "\n",
    "-   메인 메모리: 128GB DDR3 Memory\n",
    "\n",
    "-   CUDA Version: 11.6\n",
    "\n",
    "-   Python Version: 3.9.13"
   ]
  },
  {
   "cell_type": "code",
   "execution_count": null,
   "metadata": {
    "colab": {
     "base_uri": "https://localhost:8080/"
    },
    "id": "TYMuclM_N97m",
    "outputId": "b7f47d24-b723-42db-a699-7c57d36d40d9"
   },
   "outputs": [],
   "source": [
    "# 깃허브에서 YOLOv5 오픈소스 가져오기\n",
    "!git clone https://github.com/ultralytics/yolov5"
   ]
  },
  {
   "cell_type": "code",
   "execution_count": null,
   "metadata": {},
   "outputs": [],
   "source": [
    "# 필요한 패키지 한번에 설치해주기\n",
    "%cd yolov5\n",
    "!pip install -qr requirements.txt"
   ]
  },
  {
   "cell_type": "code",
   "execution_count": 3,
   "metadata": {
    "id": "jd7-Ta7GOHkS"
   },
   "outputs": [],
   "source": [
    "from typing_extensions import IntVar\n",
    "import json\n",
    "import os\n",
    "import random\n",
    "\n",
    "\n",
    "def split_dataset(input_json, output_dir, val_ratio, test_ratio, random_seed):\n",
    "    random.seed(random_seed)\n",
    "\n",
    "    # 원본 json파일을 불러오기\n",
    "    with open(input_json) as json_reader:\n",
    "        dataset = json.load(json_reader)\n",
    "\n",
    "    images = dataset['images']\n",
    "    annotations = dataset['annotations']\n",
    "    categories = dataset['categories']\n",
    "\n",
    "    # 이미지별 id가져오기\n",
    "    image_ids = [x.get('id') for x in images]\n",
    "    image_ids.sort()\n",
    "    # 무작위로 섞기\n",
    "    random.shuffle(image_ids)\n",
    "    \n",
    "    # train/validation/test로 나누어 주기\n",
    "    num_val = int(len(image_ids) * val_ratio)\n",
    "    num_test = int(len(image_ids) * test_ratio)\n",
    "    num_train = int(len(image_ids)) - num_val - num_test\n",
    "\n",
    "    image_ids_val, image_ids_train , image_ids_test= set(image_ids[:num_val]), set(image_ids[num_val:num_train]), set(image_ids[num_train:])\n",
    "\n",
    "    # 이미지 id와 annotations도 위에서 나눈대로 분류해주기\n",
    "    train_images = [x for x in images if x.get('id') in image_ids_train]\n",
    "    val_images = [x for x in images if x.get('id') in image_ids_val]\n",
    "    test_images = [x for x in images if x.get('id') in image_ids_test]\n",
    "    train_annotations = [x for x in annotations if x.get('image_id') in image_ids_train]\n",
    "    val_annotations = [x for x in annotations if x.get('image_id') in image_ids_val]\n",
    "    test_annotations = [x for x in annotations if x.get('image_id') in image_ids_test]\n",
    "\n",
    "    train_data = {\n",
    "        'images': train_images,\n",
    "        'annotations': train_annotations,\n",
    "        'categories': categories,\n",
    "    }\n",
    "\n",
    "    val_data = {\n",
    "        'images': val_images,\n",
    "        'annotations': val_annotations,\n",
    "        'categories': categories,\n",
    "    }\n",
    "\n",
    "    test_data = {\n",
    "        'images': test_images,\n",
    "        'annotations': test_annotations,\n",
    "        'categories': categories,\n",
    "    }\n",
    "\n",
    "    # 위에서 분류한 것들을 세개의 json파일로 나누어서 저장해주기\n",
    "    output_seed_dir = os.path.join(output_dir, f'seed{random_seed}')\n",
    "    os.makedirs(output_seed_dir, exist_ok=True)\n",
    "    output_train_json = os.path.join(output_seed_dir, 'train.json')\n",
    "    output_val_json = os.path.join(output_seed_dir, 'val.json')\n",
    "    output_test_json = os.path.join(output_seed_dir, 'test.json')\n",
    "    output_train_csv = os.path.join(output_seed_dir, 'train.csv')\n",
    "    output_val_csv = os.path.join(output_seed_dir, 'val.csv')\n",
    "    output_test_csv = os.path.join(output_seed_dir, 'test.csv')\n",
    "\n",
    "    print(f'write {output_train_json}')\n",
    "    with open(output_train_json, 'w') as train_writer:\n",
    "        json.dump(train_data, train_writer)\n",
    "\n",
    "    print(f'write {output_val_json}')\n",
    "    with open(output_val_json, 'w') as val_writer:\n",
    "        json.dump(val_data, val_writer)\n",
    "\n",
    "    print(f'write {output_test_json}')\n",
    "    with open(output_test_json, 'w') as test_writer:\n",
    "        json.dump(test_data, test_writer)"
   ]
  },
  {
   "cell_type": "code",
   "execution_count": null,
   "metadata": {
    "colab": {
     "base_uri": "https://localhost:8080/"
    },
    "id": "oZfrKOtsJZtN",
    "outputId": "21657269-5df0-46f4-ef6c-8506e1c4a234"
   },
   "outputs": [],
   "source": [
    "# 하나로 모여있는 2700장 데이터를 train/validation/test로 나누어준다(비율은 70%.20%/10%이다)\n",
    "split_dataset(input_json='/scratch/a1589a01/workspace/YOLO/data/Train.vol1/json_1/annotation.json',\n",
    "              output_dir='/scratch/a1589a01/workspace/YOLO/data/Train.vol1/json_1',\n",
    "              val_ratio=0.2,\n",
    "              test_ratio=0.1,\n",
    "              random_seed=221111)"
   ]
  },
  {
   "cell_type": "code",
   "execution_count": null,
   "metadata": {
    "colab": {
     "base_uri": "https://localhost:8080/"
    },
    "id": "TWVaySSkKDPS",
    "outputId": "fc48076f-2800-475c-9beb-534611a1eab8"
   },
   "outputs": [],
   "source": [
    "# COCO 데이터셋을 YOLO 데이터셋으로 변경해주는 오픈소스를 깃허브에서 가져오기\n",
    "!git clone https://github.com/alexmihalyk23/COCO2YOLO.git"
   ]
  },
  {
   "cell_type": "code",
   "execution_count": 5,
   "metadata": {
    "id": "ZVEzF7MgKnvI"
   },
   "outputs": [],
   "source": [
    "import shutil\n",
    "\n",
    "class COCO2YOLO:\n",
    "  # 소스 이미지 디렉토리와 Json annotation 파일, 타겟 이미지 디렉토리, 타겟 annotation 디렉토리를 생성자로 입력 받음\n",
    "  def __init__(self, src_img_dir, json_file, tgt_img_dir, tgt_anno_dir):\n",
    "    self.json_file = json_file\n",
    "    self.src_img_dir = src_img_dir\n",
    "    self.tgt_img_dir = tgt_img_dir\n",
    "    self.tgt_anno_dir = tgt_anno_dir\n",
    "    # json 파일과 타겟 디렉토리가 존재하는지 확인하고, 디렉토리의 경우는 없으면 생성\n",
    "    self._check_file_and_dir(json_file, tgt_img_dir, tgt_anno_dir)\n",
    "    # json 파일을 메모리로 로딩. \n",
    "    self.labels = json.load(open(json_file, 'r', encoding='utf-8'))\n",
    "    # category id와 이름을 매핑하지만, 실제 class id는 이를 적용하지 않고 별도 적용\n",
    "    self.coco_id_name_map = self._categories()\n",
    "    self.coco_name_list = list(self.coco_id_name_map.values())\n",
    "    print(\"total images\", len(self.labels['images']))\n",
    "    print(\"total categories\", len(self.labels['categories']))\n",
    "    print(\"total labels\", len(self.labels['annotations']))\n",
    "  \n",
    "  # json 파일과 타겟 디렉토리가 존재하는지 확인하고, 디렉토리의 경우는 없으면 생성\n",
    "  def _check_file_and_dir(self, file_path, tgt_img_dir, tgt_anno_dir):\n",
    "    if not os.path.exists(file_path):\n",
    "        raise ValueError(\"file not found\")\n",
    "    if not os.path.exists(tgt_img_dir):\n",
    "        os.makedirs(tgt_img_dir)\n",
    "    if not os.path.exists(tgt_anno_dir):\n",
    "        os.makedirs(tgt_anno_dir)\n",
    "\n",
    "  # category id와 이름을 매핑하지만, 추후에 class 명만 활용\n",
    "  def _categories(self):\n",
    "    categories = {}\n",
    "    for cls in self.labels['categories']:\n",
    "        categories[cls['id']] = cls['name']\n",
    "    return categories\n",
    "  \n",
    "  # annotation에서 모든 image의 파일명(절대 경로 아님)과 width, height 정보 저장\n",
    "  def _load_images_info(self):\n",
    "    images_info = {}\n",
    "    for image in self.labels['images']:\n",
    "        id = image['id']\n",
    "        file_name = image['file_name']\n",
    "        if file_name.find('\\\\') > -1:\n",
    "            file_name = file_name[file_name.index('\\\\')+1:]\n",
    "        w = image['width']\n",
    "        h = image['height']\n",
    "  \n",
    "        images_info[id] = (file_name, w, h)\n",
    "\n",
    "    return images_info\n",
    "\n",
    "  # ms-coco의 bbox annotation은 yolo format으로 변환. 좌상단 x, y좌표, width, height 기반을 정규화된 center x,y 와 width, height로 변환\n",
    "  def _bbox_2_yolo(self, bbox, img_w, img_h):\n",
    "    # ms-coco는 좌상단 x, y좌표, width, height\n",
    "    x, y, w, h = bbox[0], bbox[1], bbox[2], bbox[3]\n",
    "    # center x좌표는 좌상단 x좌표에서 width의 절반을 더함. center y좌표는 좌상단 y좌표에서 height의 절반을 더함\n",
    "    centerx = bbox[0] + w / 2\n",
    "    centery = bbox[1] + h / 2\n",
    "    # centerx, centery, width, height를 이미지의 width/height로 정규화\n",
    "    dw = 1 / img_w\n",
    "    dh = 1 / img_h\n",
    "    centerx *= dw\n",
    "    w *= dw\n",
    "    centery *= dh\n",
    "    h *= dh\n",
    "    return centerx, centery, w, h\n",
    "  \n",
    "  # image와 annotation 정보를 기반으로 image명과 yolo annotation 정보 가공\n",
    "  # 개별 image당 하나의 annotation 정보를 가지도록 변환\n",
    "  def _convert_anno(self, images_info):\n",
    "    anno_dict = dict()\n",
    "    for anno in self.labels['annotations']:\n",
    "      bbox = anno['bbox']\n",
    "      image_id = anno['image_id']\n",
    "      category_id = anno['category_id']\n",
    "\n",
    "      image_info = images_info.get(image_id)\n",
    "      image_name = image_info[0]\n",
    "      img_w = image_info[1]\n",
    "      img_h = image_info[2]\n",
    "      yolo_box = self._bbox_2_yolo(bbox, img_w, img_h)\n",
    "\n",
    "      anno_info = (image_name, category_id, yolo_box)\n",
    "      anno_infos = anno_dict.get(image_id)\n",
    "      if not anno_infos:\n",
    "        anno_dict[image_id] = [anno_info]\n",
    "      else:\n",
    "        anno_infos.append(anno_info)\n",
    "        anno_dict[image_id] = anno_infos\n",
    "    return anno_dict\n",
    "\n",
    "  # class 명을 파일로 저장하는 로직. 사용하지 않음\n",
    "  def save_classes(self):\n",
    "    sorted_classes = list(map(lambda x: x['name'], sorted(self.labels['categories'], key=lambda x: x['id'])))\n",
    "    print('coco names', sorted_classes)\n",
    "    with open('coco.names', 'w', encoding='utf-8') as f:\n",
    "      for cls in sorted_classes:\n",
    "          f.write(cls + '\\n')\n",
    "    f.close()\n",
    "  # _convert_anno(images_info)로 만들어진 anno 정보를 개별 yolo anno txt 파일로 생성하는 로직\n",
    "  # coco2yolo()에서 anno_dict = self._convert_anno(images_info)로 만들어진 anno_dict를 _save_txt()에 입력하여 파일 생성\n",
    "  def _save_txt(self, anno_dict):\n",
    "    # 개별 image별로 소스 image는 타겟이미지 디렉토리로 복사하고, 개별 annotation을 타겟 anno 디렉토리로 생성\n",
    "    for k, v in anno_dict.items():\n",
    "      # 소스와 타겟 파일의 절대 경로 생성\n",
    "      src_img_filename = os.path.join(self.src_img_dir, v[0][0])\n",
    "      tgt_anno_filename = os.path.join(self.tgt_anno_dir,v[0][0].split(\".\")[0] + \".txt\")\n",
    "      #print('source image filename:', src_img_filename, 'target anno filename:', tgt_anno_filename)\n",
    "      # 이미지 파일의 경우 타겟 디렉토리로 단순 복사\n",
    "      shutil.copy(src_img_filename, self.tgt_img_dir)\n",
    "      # 타겟 annotation 출력 파일명으로 classid, bbox 좌표를 object 별로 생성\n",
    "      with open(tgt_anno_filename, 'w', encoding='utf-8') as f:\n",
    "        #print(k, v)\n",
    "        # 여러개의 object 별로 classid와 bbox 좌표를 생성\n",
    "        for obj in v:\n",
    "          cat_name = self.coco_id_name_map.get(obj[1])\n",
    "          # category_id는 class 명에 따라 0부터 순차적으로 부여\n",
    "          category_id = self.coco_name_list.index(cat_name)\n",
    "          #print('cat_name:', cat_name, 'category_id:', category_id)\n",
    "          box = ['{:.6f}'.format(x) for x in obj[2]]\n",
    "          box = ' '.join(box)\n",
    "          line = str(category_id) + ' ' + box\n",
    "          f.write(line + '\\n')\n",
    "\n",
    "  # ms-coco를 yolo format으로 변환\n",
    "  def coco2yolo(self):\n",
    "    print(\"loading image info...\")\n",
    "    images_info = self._load_images_info()\n",
    "    print(\"loading done, total images\", len(images_info))\n",
    "\n",
    "    print(\"start converting...\")\n",
    "    anno_dict = self._convert_anno(images_info)\n",
    "    print(\"converting done, total labels\", len(anno_dict))\n",
    "\n",
    "    print(\"saving txt file...\")\n",
    "    self._save_txt(anno_dict)\n",
    "    print(\"saving done\")"
   ]
  },
  {
   "cell_type": "code",
   "execution_count": 9,
   "metadata": {
    "id": "LhRZzZOwK7D9"
   },
   "outputs": [],
   "source": [
    "# 학습/검증/테스트용 images, labels 디렉토리 생성\n",
    "!cd pig; mkdir images; mkdir labels;\n",
    "!cd pig/images; mkdir train; mkdir val; mkdir test\n",
    "!cd pig/labels; mkdir train; mkdir val; mkdir test"
   ]
  },
  {
   "cell_type": "code",
   "execution_count": null,
   "metadata": {
    "colab": {
     "base_uri": "https://localhost:8080/"
    },
    "id": "6n48IixgLRTt",
    "outputId": "50c5b438-0786-4f55-cdc0-30247519d51b"
   },
   "outputs": [],
   "source": [
    "# train 용 yolo 데이터 세트 생성\n",
    "\n",
    "train_yolo_converter = COCO2YOLO(src_img_dir='/scratch/a1589a01/workspace/YOLO/data/Train.vol1/images_1', json_file='/scratch/a1589a01/workspace/YOLO/data/Train.vol1/json_1/seed221111/train.json',\n",
    "                                 tgt_img_dir='/scratch/a1589a01/workspace/YOLO/pig/images/train', tgt_anno_dir='/scratch/a1589a01/workspace/YOLO/pig/labels/train')\n",
    "train_yolo_converter.coco2yolo()\n",
    "\n",
    "# val 용 yolo 데이터 세트 생성. \n",
    "val_yolo_converter = COCO2YOLO(src_img_dir='/scratch/a1589a01/workspace/YOLO/data/Train.vol1/images_1', json_file='/scratch/a1589a01/workspace/YOLO/data/Train.vol1/json_1/seed221111/val.json',\n",
    "                                 tgt_img_dir='/scratch/a1589a01/workspace/YOLO/pig/images/val', tgt_anno_dir='/scratch/a1589a01/workspace/YOLO/pig/labels/val')\n",
    "val_yolo_converter.coco2yolo()\n",
    "\n",
    "# test 용 yolo 데이터 세트 생성. \n",
    "test_yolo_converter = COCO2YOLO(src_img_dir='/scratch/a1589a01/workspace/YOLO/data/Train.vol1/images_1', json_file='/scratch/a1589a01/workspace/YOLO/data/Train.vol1/json_1/seed221111/test.json',\n",
    "                                 tgt_img_dir='/scratch/a1589a01/workspace/YOLO/pig/images/test', tgt_anno_dir='/scratch/a1589a01/workspace/YOLO/pig/labels/test')\n",
    "test_yolo_converter.coco2yolo()"
   ]
  },
  {
   "cell_type": "code",
   "execution_count": 16,
   "metadata": {
    "colab": {
     "base_uri": "https://localhost:8080/"
    },
    "id": "dEzKg_fUj1so",
    "outputId": "3c1c1a3d-1a79-4ac5-a1be-b72dc2131f16"
   },
   "outputs": [],
   "source": [
    "# 결과물 저장할 Directory 생성\n",
    "!mkdir \"/scratch/a1589a01/workspace/YOLO/ultra_workdir\""
   ]
  },
  {
   "cell_type": "code",
   "execution_count": null,
   "metadata": {
    "colab": {
     "base_uri": "https://localhost:8080/",
     "height": 35
    },
    "id": "RW52m3PJheHR",
    "outputId": "c059f808-5972-4e68-d596-727766d64b81"
   },
   "outputs": [],
   "source": [
    "import yaml\n",
    "yaml.__version__"
   ]
  },
  {
   "cell_type": "code",
   "execution_count": null,
   "metadata": {},
   "outputs": [],
   "source": [
    "# 아래 내용과 같이 데이터 위치와 class 내용을 담은 yaml파일을 만들어주어야 한다.\n",
    "\n",
    "\"\"\"\n",
    "train: /scratch/a1589a01/workspace/YOLO/pig/images/train/\n",
    "val: /scratch/a1589a01/workspace/YOLO/pig/images/val/\n",
    "test: /scratch/a1589a01/workspace/YOLO/pig/images/test/\n",
    "\n",
    "#number of classes\n",
    "nc: 1\n",
    "\n",
    "#class names\n",
    "names: ['pig']\n",
    "\"\"\"\n",
    "\n",
    "# 파일명은 \"custom_data.yaml\"으로 하면 된다"
   ]
  },
  {
   "cell_type": "code",
   "execution_count": 8,
   "metadata": {},
   "outputs": [
    {
     "name": "stdout",
     "output_type": "stream",
     "text": [
      "cuda\n"
     ]
    }
   ],
   "source": [
    "# cuda 사용 확인하기\n",
    "import torch\n",
    "\n",
    "cuda_id = 0\n",
    "device = torch.device(\"cuda\" if torch.cuda.is_available() else \"cpu\")\n",
    "print(device)"
   ]
  },
  {
   "cell_type": "code",
   "execution_count": null,
   "metadata": {
    "colab": {
     "base_uri": "https://localhost:8080/"
    },
    "id": "DftQUi2Ij3hb",
    "outputId": "a1edb2aa-434f-47eb-f3f2-8e523a4a74dd"
   },
   "outputs": [],
   "source": [
    "# 배치 사이즈는 8, 에폭크기는 50으로 놓고 데이터 경로는 custom_data.yaml를 통해서 넣어준다.\n",
    "!python train.py --img 640 --batch 8 --epochs 50 --data /scratch/a1589a01/workspace/YOLO/data/custom_data.yaml --weights yolov5l.pt \\\n",
    "                                     --project=/scratch/a1589a01/workspace/YOLO/ultra_workdir --name pig --exist-ok"
   ]
  },
  {
   "cell_type": "code",
   "execution_count": null,
   "metadata": {
    "colab": {
     "base_uri": "https://localhost:8080/"
    },
    "id": "KYEtF-JWkDuy",
    "outputId": "045f973e-72ef-4c88-ba8f-32a6acb864d8"
   },
   "outputs": [],
   "source": [
    "# 위에서 만든 모델로 test 셋에 적용해보기\n",
    "!detect.py --source /scratch/a1589a01/workspace/YOLO/pig/images/test/ \\\n",
    "                            --weights /scratch/a1589a01/workspace/YOLO/ultra_workdir/pig/weights/best.pt --conf 0.2 \\\n",
    "                            --project=/scratch/a1589a01/workspace/YOLO/data/output --name=run_image --exist-ok --line-thickness 2"
   ]
  }
 ],
 "metadata": {
  "accelerator": "GPU",
  "colab": {
   "collapsed_sections": [],
   "provenance": []
  },
  "gpuClass": "standard",
  "kernelspec": {
   "display_name": "Python 3 (ipykernel)",
   "language": "python",
   "name": "python3"
  },
  "language_info": {
   "codemirror_mode": {
    "name": "ipython",
    "version": 3
   },
   "file_extension": ".py",
   "mimetype": "text/x-python",
   "name": "python",
   "nbconvert_exporter": "python",
   "pygments_lexer": "ipython3",
   "version": "3.9.13"
  }
 },
 "nbformat": 4,
 "nbformat_minor": 4
}
