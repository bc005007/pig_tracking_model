{
 "cells": [
  {
   "attachments": {},
   "cell_type": "markdown",
   "metadata": {},
   "source": [
    "# YOLOv5를 StrongSORT에 연결하여 돼지 tracking 하기"
   ]
  },
  {
   "attachments": {},
   "cell_type": "markdown",
   "metadata": {},
   "source": [
    "### 환경\n",
    "-   KiSTi 국가컴퓨팅센터 - 뉴론(NEURON)\n",
    "\n",
    "-   운영체제: CentOS 7.9 (Linux, 64-bit)\n",
    "\n",
    "-   CPU: Intel Xeon Ivy Bridge (E5-2670) / 2.50GHz (10-core) / 2 socket\n",
    "\n",
    "-   GPU: Tesla V100-PCIE-16GB(2개중 하나만 사용함)\n",
    "\n",
    "-   메인 메모리: 128GB DDR3 Memory\n",
    "\n",
    "-   CUDA Version: 11.6\n",
    "\n",
    "-   Python Version: 3.9.13"
   ]
  },
  {
   "cell_type": "code",
   "execution_count": null,
   "metadata": {
    "colab": {
     "base_uri": "https://localhost:8080/"
    },
    "id": "XdOvt4p8Oi91",
    "outputId": "d97bed75-939b-44bc-b88b-8f0db37f6451"
   },
   "outputs": [],
   "source": [
    "# 깃허브에서 오픈소스 가져오기\n",
    "!git clone --recurse-submodules https://github.com/mikel-brostrom/Yolov5_StrongSORT_OSNet.git\n",
    "\n",
    "# 필요한 패키지 설치하기\n",
    "%pip install -qr requirements.txt"
   ]
  },
  {
   "cell_type": "code",
   "execution_count": null,
   "metadata": {},
   "outputs": [],
   "source": [
    "import torch\n",
    "from IPython.display import Image, clear_output\n",
    "\n",
    "# pytorch 버전 확인 및 cuda 사용확인하기\n",
    "print(f\"Setup complete. Using torch {torch.__version__} ({torch.cuda.get_device_properties(0).name if torch.cuda.is_available() else 'CPU'})\")"
   ]
  },
  {
   "cell_type": "code",
   "execution_count": null,
   "metadata": {
    "colab": {
     "base_uri": "https://localhost:8080/"
    },
    "id": "cd9omTomQbEU",
    "outputId": "c050a6e8-8275-4462-cfb4-5484eb84461d"
   },
   "outputs": [],
   "source": [
    "# YOLOv5로 만든 모델인 best.pt를 yolo-weights 항목에 넣어주고 source에는 영상데이터를 넣어준다.\n",
    "!python track.py --yolo-weights best.pt --reid-weights osnet_x0_25_msmt17.pt --source pig_sample.mp4 --save-vid"
   ]
  }
 ],
 "metadata": {
  "colab": {
   "collapsed_sections": [],
   "provenance": []
  },
  "kernelspec": {
   "display_name": "Python 3 (ipykernel)",
   "language": "python",
   "name": "python3"
  },
  "language_info": {
   "codemirror_mode": {
    "name": "ipython",
    "version": 3
   },
   "file_extension": ".py",
   "mimetype": "text/x-python",
   "name": "python",
   "nbconvert_exporter": "python",
   "pygments_lexer": "ipython3",
   "version": "3.9.13"
  }
 },
 "nbformat": 4,
 "nbformat_minor": 4
}
